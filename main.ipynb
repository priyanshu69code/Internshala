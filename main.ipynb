{
 "cells": [
  {
   "cell_type": "code",
   "execution_count": 19,
   "metadata": {},
   "outputs": [],
   "source": [
    "import pandas as pd\n",
    "import re\n",
    "\n",
    "# Given Series\n",
    "data = pd.Series(['BANKNIFTY03MAR2230900PE.NFO','BANKNIFTY10MAR2230900PE.NFO','NIFTY17JUN2216900CE.NFO','TATACHEM25FEB21500CE.NFO','ACC25MAR221800CE.NFO'])"
   ]
  },
  {
   "cell_type": "code",
   "execution_count": 20,
   "metadata": {},
   "outputs": [
    {
     "data": {
      "text/plain": [
       "0    BANKNIFTY03MAR2230900PE.NFO\n",
       "1    BANKNIFTY10MAR2230900PE.NFO\n",
       "2        NIFTY17JUN2216900CE.NFO\n",
       "3       TATACHEM25FEB21500CE.NFO\n",
       "4           ACC25MAR221800CE.NFO\n",
       "dtype: object"
      ]
     },
     "execution_count": 20,
     "metadata": {},
     "output_type": "execute_result"
    }
   ],
   "source": [
    "data.head()"
   ]
  },
  {
   "cell_type": "code",
   "execution_count": 21,
   "metadata": {},
   "outputs": [],
   "source": [
    "def extract_date(string):\n",
    "    if isinstance(string, str):\n",
    "        match = re.search(r'(\\d{2}[A-Z]{3}\\d{2})', string)\n",
    "        if match:\n",
    "            return pd.to_datetime(match.group(1), format='%d%b%y').strftime('%Y/%m/%d')\n",
    "    return None"
   ]
  },
  {
   "cell_type": "code",
   "execution_count": 22,
   "metadata": {},
   "outputs": [],
   "source": [
    "time_data = data.apply(extract_date)"
   ]
  },
  {
   "cell_type": "code",
   "execution_count": 23,
   "metadata": {},
   "outputs": [
    {
     "name": "stdout",
     "output_type": "stream",
     "text": [
      "0    2022/03/03\n",
      "1    2022/03/10\n",
      "2    2022/06/17\n",
      "3    2021/02/25\n",
      "4    2022/03/25\n",
      "dtype: object\n"
     ]
    }
   ],
   "source": [
    "print(time_data)"
   ]
  }
 ],
 "metadata": {
  "kernelspec": {
   "display_name": "Python 3",
   "language": "python",
   "name": "python3"
  },
  "language_info": {
   "codemirror_mode": {
    "name": "ipython",
    "version": 3
   },
   "file_extension": ".py",
   "mimetype": "text/x-python",
   "name": "python",
   "nbconvert_exporter": "python",
   "pygments_lexer": "ipython3",
   "version": "3.11.6"
  }
 },
 "nbformat": 4,
 "nbformat_minor": 2
}
